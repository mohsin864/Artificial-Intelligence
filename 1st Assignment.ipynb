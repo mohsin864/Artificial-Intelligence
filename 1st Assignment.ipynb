{
 "cells": [
  {
   "cell_type": "code",
   "execution_count": 14,
   "metadata": {},
   "outputs": [
    {
     "name": "stdout",
     "output_type": "stream",
     "text": [
      "NAME: Muhammad Mohsin Khan\n",
      "AGE:  27\n",
      "CITY: Karachi\n",
      "ADDRESS: House No G: 23 Arsalan Homes Sec 1-A-4 North Karachi\n"
     ]
    }
   ],
   "source": [
    "print('NAME: Muhammad Mohsin Khan')\n",
    "AGE=27\n",
    "print('AGE: ',AGE)\n",
    "print('CITY: Karachi')\n",
    "print('ADDRESS: House No G: 23 Arsalan Homes Sec 1-A-4 North Karachi')"
   ]
  },
  {
   "cell_type": "code",
   "execution_count": null,
   "metadata": {},
   "outputs": [],
   "source": []
  }
 ],
 "metadata": {
  "kernelspec": {
   "display_name": "Python 3",
   "language": "python",
   "name": "python3"
  },
  "language_info": {
   "codemirror_mode": {
    "name": "ipython",
    "version": 3
   },
   "file_extension": ".py",
   "mimetype": "text/x-python",
   "name": "python",
   "nbconvert_exporter": "python",
   "pygments_lexer": "ipython3",
   "version": "3.7.3"
  }
 },
 "nbformat": 4,
 "nbformat_minor": 2
}
